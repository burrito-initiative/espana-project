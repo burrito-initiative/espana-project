{
 "cells": [
  {
   "cell_type": "markdown",
   "metadata": {},
   "source": [
    "# SPAIN ENERGY PROJECT \n",
    "### Hourly energy demand, generation and weather\n",
    "\n",
    "* https://www.kaggle.com/nicholasjhana/energy-consumption-generation-prices-and-weather"
   ]
  },
  {
   "cell_type": "code",
   "execution_count": 1,
   "metadata": {},
   "outputs": [],
   "source": [
    "# Dependencies\n",
    "import matplotlib.pyplot as plt\n",
    "import pandas as pd\n",
    "import numpy as np\n",
    "# Hide warning messages in notebook\n",
    "import warnings\n",
    "warnings.filterwarnings('ignore')"
   ]
  },
  {
   "cell_type": "code",
   "execution_count": 2,
   "metadata": {},
   "outputs": [],
   "source": [
    "#Import files\n",
    "energy_csv = \"resources/energy_dataset.csv\"\n",
    "weather_csv = \"resources/weather_features.csv\"\n",
    "energy_df = pd.read_csv(energy_csv)\n",
    "weather_df = pd.read_csv(weather_csv)\n",
    "\n",
    "# Merge DataFrames into one (big_df)\n",
    "big_df = pd.merge(energy_df, weather_df, on=\"time\")"
   ]
  },
  {
   "cell_type": "markdown",
   "metadata": {},
   "source": [
    "<hr>\n",
    "\n",
    "## Main DataFrame"
   ]
  },
  {
   "cell_type": "code",
   "execution_count": 3,
   "metadata": {},
   "outputs": [
    {
     "data": {
      "text/plain": [
       "Time                    178396\n",
       "Month                   178396\n",
       "Day                     178396\n",
       "Year                    178396\n",
       "Oil                     178301\n",
       "Hydro River/Resivoir    178301\n",
       "Solar                   178306\n",
       "Nuclear                 178311\n",
       "City                    178396\n",
       "Temp (F)                178396\n",
       "Rain (mm)               178396\n",
       "Snow (mm)               178396\n",
       "Clouds                  178396\n",
       "Weather Description     178396\n",
       "dtype: int64"
      ]
     },
     "execution_count": 3,
     "metadata": {},
     "output_type": "execute_result"
    }
   ],
   "source": [
    "# Select only necessary columns for a better DataFrame (better_big_df)\n",
    "better_big_df = pd.DataFrame({\n",
    "    \"Time\":big_df[\"time\"],\n",
    "    \"Month\":big_df[\"month\"],\n",
    "    \"Day\":big_df[\"day\"],\n",
    "    \"Year\":big_df[\"year\"],\n",
    "    \"Oil\":big_df[\"generation fossil oil\"],\n",
    "    \"Hydro River/Resivoir\":big_df[\"generation hydro run-of-river and poundage\"] + big_df[\"generation hydro water reservoir\"],\n",
    "    \"Solar\":big_df[\"generation solar\"],\n",
    "    \"Nuclear\":big_df[\"generation nuclear\"],\n",
    "    \"City\":big_df[\"city_name\"],\n",
    "    \"Temp (F)\":round(big_df[\"temp\"]*(9/5)-459.67,2), # converting kelvin to fahrenheit\n",
    "    \"Rain (mm)\":big_df[\"rain_3h\"],\n",
    "    \"Snow (mm)\":big_df[\"snow_3h\"],\n",
    "    \"Clouds\":big_df[\"clouds_all\"],\n",
    "    \"Weather Description\":big_df[\"weather_main\"]})\n",
    "\n",
    "# Preivew summary\n",
    "better_big_df.count()"
   ]
  },
  {
   "cell_type": "code",
   "execution_count": 4,
   "metadata": {},
   "outputs": [
    {
     "data": {
      "text/plain": [
       "Time                    178296\n",
       "Month                   178296\n",
       "Day                     178296\n",
       "Year                    178296\n",
       "Oil                     178296\n",
       "Hydro River/Resivoir    178296\n",
       "Solar                   178296\n",
       "Nuclear                 178296\n",
       "City                    178296\n",
       "Temp (F)                178296\n",
       "Rain (mm)               178296\n",
       "Snow (mm)               178296\n",
       "Clouds                  178296\n",
       "Weather Description     178296\n",
       "dtype: int64"
      ]
     },
     "execution_count": 4,
     "metadata": {},
     "output_type": "execute_result"
    }
   ],
   "source": [
    "# Drop any missing data\n",
    "smaller_better_big_df = better_big_df.dropna(how='any')\n",
    "\n",
    "# Dataframe without missing data\n",
    "smaller_better_big_df.count()"
   ]
  },
  {
   "cell_type": "markdown",
   "metadata": {},
   "source": [
    "### Adding Seasons to DataFrame"
   ]
  },
  {
   "cell_type": "code",
   "execution_count": 5,
   "metadata": {},
   "outputs": [
    {
     "data": {
      "text/html": [
       "<div>\n",
       "<style scoped>\n",
       "    .dataframe tbody tr th:only-of-type {\n",
       "        vertical-align: middle;\n",
       "    }\n",
       "\n",
       "    .dataframe tbody tr th {\n",
       "        vertical-align: top;\n",
       "    }\n",
       "\n",
       "    .dataframe thead th {\n",
       "        text-align: right;\n",
       "    }\n",
       "</style>\n",
       "<table border=\"1\" class=\"dataframe\">\n",
       "  <thead>\n",
       "    <tr style=\"text-align: right;\">\n",
       "      <th></th>\n",
       "      <th>Time</th>\n",
       "      <th>Month</th>\n",
       "      <th>Day</th>\n",
       "      <th>Year</th>\n",
       "      <th>Oil</th>\n",
       "      <th>Hydro River/Resivoir</th>\n",
       "      <th>Solar</th>\n",
       "      <th>Nuclear</th>\n",
       "      <th>City</th>\n",
       "      <th>Temp (F)</th>\n",
       "      <th>Rain (mm)</th>\n",
       "      <th>Snow (mm)</th>\n",
       "      <th>Clouds</th>\n",
       "      <th>Weather Description</th>\n",
       "      <th>Season</th>\n",
       "    </tr>\n",
       "  </thead>\n",
       "  <tbody>\n",
       "    <tr>\n",
       "      <th>0</th>\n",
       "      <td>2015-01-01 00:00:00+01:00</td>\n",
       "      <td>1</td>\n",
       "      <td>1</td>\n",
       "      <td>2015</td>\n",
       "      <td>162.0</td>\n",
       "      <td>2950.0</td>\n",
       "      <td>49.0</td>\n",
       "      <td>7096.0</td>\n",
       "      <td>Valencia</td>\n",
       "      <td>27.19</td>\n",
       "      <td>0.0</td>\n",
       "      <td>0.0</td>\n",
       "      <td>0</td>\n",
       "      <td>clear</td>\n",
       "      <td>4-Winter</td>\n",
       "    </tr>\n",
       "    <tr>\n",
       "      <th>1</th>\n",
       "      <td>2015-01-01 00:00:00+01:00</td>\n",
       "      <td>1</td>\n",
       "      <td>1</td>\n",
       "      <td>2015</td>\n",
       "      <td>162.0</td>\n",
       "      <td>2950.0</td>\n",
       "      <td>49.0</td>\n",
       "      <td>7096.0</td>\n",
       "      <td>Madrid</td>\n",
       "      <td>21.51</td>\n",
       "      <td>0.0</td>\n",
       "      <td>0.0</td>\n",
       "      <td>0</td>\n",
       "      <td>clear</td>\n",
       "      <td>4-Winter</td>\n",
       "    </tr>\n",
       "    <tr>\n",
       "      <th>2</th>\n",
       "      <td>2015-01-01 00:00:00+01:00</td>\n",
       "      <td>1</td>\n",
       "      <td>1</td>\n",
       "      <td>2015</td>\n",
       "      <td>162.0</td>\n",
       "      <td>2950.0</td>\n",
       "      <td>49.0</td>\n",
       "      <td>7096.0</td>\n",
       "      <td>Bilbao</td>\n",
       "      <td>25.71</td>\n",
       "      <td>0.0</td>\n",
       "      <td>0.0</td>\n",
       "      <td>0</td>\n",
       "      <td>clear</td>\n",
       "      <td>4-Winter</td>\n",
       "    </tr>\n",
       "    <tr>\n",
       "      <th>3</th>\n",
       "      <td>2015-01-01 00:00:00+01:00</td>\n",
       "      <td>1</td>\n",
       "      <td>1</td>\n",
       "      <td>2015</td>\n",
       "      <td>162.0</td>\n",
       "      <td>2950.0</td>\n",
       "      <td>49.0</td>\n",
       "      <td>7096.0</td>\n",
       "      <td>Barcelona</td>\n",
       "      <td>47.26</td>\n",
       "      <td>0.0</td>\n",
       "      <td>0.0</td>\n",
       "      <td>0</td>\n",
       "      <td>clear</td>\n",
       "      <td>4-Winter</td>\n",
       "    </tr>\n",
       "    <tr>\n",
       "      <th>4</th>\n",
       "      <td>2015-01-01 00:00:00+01:00</td>\n",
       "      <td>1</td>\n",
       "      <td>1</td>\n",
       "      <td>2015</td>\n",
       "      <td>162.0</td>\n",
       "      <td>2950.0</td>\n",
       "      <td>49.0</td>\n",
       "      <td>7096.0</td>\n",
       "      <td>Seville</td>\n",
       "      <td>32.40</td>\n",
       "      <td>0.0</td>\n",
       "      <td>0.0</td>\n",
       "      <td>0</td>\n",
       "      <td>clear</td>\n",
       "      <td>4-Winter</td>\n",
       "    </tr>\n",
       "  </tbody>\n",
       "</table>\n",
       "</div>"
      ],
      "text/plain": [
       "                        Time  Month  Day  Year    Oil  Hydro River/Resivoir  \\\n",
       "0  2015-01-01 00:00:00+01:00      1    1  2015  162.0                2950.0   \n",
       "1  2015-01-01 00:00:00+01:00      1    1  2015  162.0                2950.0   \n",
       "2  2015-01-01 00:00:00+01:00      1    1  2015  162.0                2950.0   \n",
       "3  2015-01-01 00:00:00+01:00      1    1  2015  162.0                2950.0   \n",
       "4  2015-01-01 00:00:00+01:00      1    1  2015  162.0                2950.0   \n",
       "\n",
       "   Solar  Nuclear        City  Temp (F)  Rain (mm)  Snow (mm)  Clouds  \\\n",
       "0   49.0   7096.0    Valencia     27.19        0.0        0.0       0   \n",
       "1   49.0   7096.0      Madrid     21.51        0.0        0.0       0   \n",
       "2   49.0   7096.0      Bilbao     25.71        0.0        0.0       0   \n",
       "3   49.0   7096.0   Barcelona     47.26        0.0        0.0       0   \n",
       "4   49.0   7096.0     Seville     32.40        0.0        0.0       0   \n",
       "\n",
       "  Weather Description    Season  \n",
       "0               clear  4-Winter  \n",
       "1               clear  4-Winter  \n",
       "2               clear  4-Winter  \n",
       "3               clear  4-Winter  \n",
       "4               clear  4-Winter  "
      ]
     },
     "execution_count": 5,
     "metadata": {},
     "output_type": "execute_result"
    }
   ],
   "source": [
    "seasons = []\n",
    "\n",
    "# Loop through Month data to assign season name\n",
    "for month in smaller_better_big_df[\"Month\"]:\n",
    "    if month <= 2 or month == 12:\n",
    "        seasons.append(\"4-Winter\")\n",
    "    if month >= 3 and month <= 5:\n",
    "        seasons.append(\"1-Spring\")\n",
    "    if month >= 6 and month <= 8:\n",
    "        seasons.append(\"2-Summer\")\n",
    "    if month >= 9 and month <= 11:\n",
    "        seasons.append(\"3-Fall\")\n",
    "\n",
    "# Add Seasons to DataFrame\n",
    "smaller_better_big_df[\"Season\"] = seasons\n",
    "\n",
    "# Preview\n",
    "smaller_better_big_df.head()"
   ]
  },
  {
   "cell_type": "markdown",
   "metadata": {},
   "source": [
    "### Simplify DataFrame to 1 City"
   ]
  },
  {
   "cell_type": "code",
   "execution_count": 6,
   "metadata": {},
   "outputs": [
    {
     "data": {
      "text/html": [
       "<div>\n",
       "<style scoped>\n",
       "    .dataframe tbody tr th:only-of-type {\n",
       "        vertical-align: middle;\n",
       "    }\n",
       "\n",
       "    .dataframe tbody tr th {\n",
       "        vertical-align: top;\n",
       "    }\n",
       "\n",
       "    .dataframe thead th {\n",
       "        text-align: right;\n",
       "    }\n",
       "</style>\n",
       "<table border=\"1\" class=\"dataframe\">\n",
       "  <thead>\n",
       "    <tr style=\"text-align: right;\">\n",
       "      <th></th>\n",
       "      <th>Time</th>\n",
       "      <th>Month</th>\n",
       "      <th>Day</th>\n",
       "      <th>Year</th>\n",
       "      <th>Oil</th>\n",
       "      <th>Hydro River/Resivoir</th>\n",
       "      <th>Solar</th>\n",
       "      <th>Nuclear</th>\n",
       "      <th>City</th>\n",
       "      <th>Temp (F)</th>\n",
       "      <th>Rain (mm)</th>\n",
       "      <th>Snow (mm)</th>\n",
       "      <th>Clouds</th>\n",
       "      <th>Weather Description</th>\n",
       "      <th>Season</th>\n",
       "    </tr>\n",
       "  </thead>\n",
       "  <tbody>\n",
       "    <tr>\n",
       "      <th>1</th>\n",
       "      <td>2015-01-01 00:00:00+01:00</td>\n",
       "      <td>1</td>\n",
       "      <td>1</td>\n",
       "      <td>2015</td>\n",
       "      <td>162.0</td>\n",
       "      <td>2950.0</td>\n",
       "      <td>49.0</td>\n",
       "      <td>7096.0</td>\n",
       "      <td>Madrid</td>\n",
       "      <td>21.51</td>\n",
       "      <td>0.0</td>\n",
       "      <td>0.0</td>\n",
       "      <td>0</td>\n",
       "      <td>clear</td>\n",
       "      <td>4-Winter</td>\n",
       "    </tr>\n",
       "    <tr>\n",
       "      <th>6</th>\n",
       "      <td>2015-01-01 01:00:00+01:00</td>\n",
       "      <td>1</td>\n",
       "      <td>1</td>\n",
       "      <td>2015</td>\n",
       "      <td>158.0</td>\n",
       "      <td>2667.0</td>\n",
       "      <td>50.0</td>\n",
       "      <td>7096.0</td>\n",
       "      <td>Madrid</td>\n",
       "      <td>21.51</td>\n",
       "      <td>0.0</td>\n",
       "      <td>0.0</td>\n",
       "      <td>0</td>\n",
       "      <td>clear</td>\n",
       "      <td>4-Winter</td>\n",
       "    </tr>\n",
       "    <tr>\n",
       "      <th>11</th>\n",
       "      <td>2015-01-01 02:00:00+01:00</td>\n",
       "      <td>1</td>\n",
       "      <td>1</td>\n",
       "      <td>2015</td>\n",
       "      <td>157.0</td>\n",
       "      <td>2344.0</td>\n",
       "      <td>50.0</td>\n",
       "      <td>7099.0</td>\n",
       "      <td>Madrid</td>\n",
       "      <td>19.46</td>\n",
       "      <td>0.0</td>\n",
       "      <td>0.0</td>\n",
       "      <td>0</td>\n",
       "      <td>clear</td>\n",
       "      <td>4-Winter</td>\n",
       "    </tr>\n",
       "    <tr>\n",
       "      <th>16</th>\n",
       "      <td>2015-01-01 03:00:00+01:00</td>\n",
       "      <td>1</td>\n",
       "      <td>1</td>\n",
       "      <td>2015</td>\n",
       "      <td>160.0</td>\n",
       "      <td>1728.0</td>\n",
       "      <td>50.0</td>\n",
       "      <td>7098.0</td>\n",
       "      <td>Madrid</td>\n",
       "      <td>19.46</td>\n",
       "      <td>0.0</td>\n",
       "      <td>0.0</td>\n",
       "      <td>0</td>\n",
       "      <td>clear</td>\n",
       "      <td>4-Winter</td>\n",
       "    </tr>\n",
       "    <tr>\n",
       "      <th>21</th>\n",
       "      <td>2015-01-01 04:00:00+01:00</td>\n",
       "      <td>1</td>\n",
       "      <td>1</td>\n",
       "      <td>2015</td>\n",
       "      <td>156.0</td>\n",
       "      <td>1673.0</td>\n",
       "      <td>42.0</td>\n",
       "      <td>7097.0</td>\n",
       "      <td>Madrid</td>\n",
       "      <td>19.46</td>\n",
       "      <td>0.0</td>\n",
       "      <td>0.0</td>\n",
       "      <td>0</td>\n",
       "      <td>clear</td>\n",
       "      <td>4-Winter</td>\n",
       "    </tr>\n",
       "  </tbody>\n",
       "</table>\n",
       "</div>"
      ],
      "text/plain": [
       "                         Time  Month  Day  Year    Oil  Hydro River/Resivoir  \\\n",
       "1   2015-01-01 00:00:00+01:00      1    1  2015  162.0                2950.0   \n",
       "6   2015-01-01 01:00:00+01:00      1    1  2015  158.0                2667.0   \n",
       "11  2015-01-01 02:00:00+01:00      1    1  2015  157.0                2344.0   \n",
       "16  2015-01-01 03:00:00+01:00      1    1  2015  160.0                1728.0   \n",
       "21  2015-01-01 04:00:00+01:00      1    1  2015  156.0                1673.0   \n",
       "\n",
       "    Solar  Nuclear    City  Temp (F)  Rain (mm)  Snow (mm)  Clouds  \\\n",
       "1    49.0   7096.0  Madrid     21.51        0.0        0.0       0   \n",
       "6    50.0   7096.0  Madrid     21.51        0.0        0.0       0   \n",
       "11   50.0   7099.0  Madrid     19.46        0.0        0.0       0   \n",
       "16   50.0   7098.0  Madrid     19.46        0.0        0.0       0   \n",
       "21   42.0   7097.0  Madrid     19.46        0.0        0.0       0   \n",
       "\n",
       "   Weather Description    Season  \n",
       "1                clear  4-Winter  \n",
       "6                clear  4-Winter  \n",
       "11               clear  4-Winter  \n",
       "16               clear  4-Winter  \n",
       "21               clear  4-Winter  "
      ]
     },
     "execution_count": 6,
     "metadata": {},
     "output_type": "execute_result"
    }
   ],
   "source": [
    "# De-duped DataFrame by calling 1 city (Madrid)\n",
    "production_df = smaller_better_big_df.loc[better_big_df[\"City\"]==\"Madrid\"]\n",
    "\n",
    "# Preview\n",
    "production_df.head()"
   ]
  },
  {
   "cell_type": "markdown",
   "metadata": {},
   "source": [
    "## Spain's Energy Prodcution Type Percentages"
   ]
  },
  {
   "cell_type": "code",
   "execution_count": 7,
   "metadata": {},
   "outputs": [
    {
     "data": {
      "text/plain": [
       "Oil                      10800408.0\n",
       "Hydro River/Resivoir    130188753.0\n",
       "Solar                    51775492.0\n",
       "Nuclear                 226969046.0\n",
       "dtype: float64"
      ]
     },
     "execution_count": 7,
     "metadata": {},
     "output_type": "execute_result"
    }
   ],
   "source": [
    "# Calculate total energy for each production type \n",
    "energy_type = production_df[[\"Oil\",\"Hydro River/Resivoir\",\"Solar\",\"Nuclear\"]].sum()\n",
    "energy_type"
   ]
  },
  {
   "cell_type": "code",
   "execution_count": 8,
   "metadata": {},
   "outputs": [
    {
     "data": {
      "text/plain": [
       "<function matplotlib.pyplot.show(*args, **kw)>"
      ]
     },
     "execution_count": 8,
     "metadata": {},
     "output_type": "execute_result"
    },
    {
     "data": {
      "image/png": "[encoded data removed]",
      "text/plain": [
       "<Figure size 432x288 with 1 Axes>"
      ]
     },
     "metadata": {},
     "output_type": "display_data"
    }
   ],
   "source": [
    "# Total energy produced 2015-2018\n",
    "total_energy_sum = energy_type.sum()\n",
    "\n",
    "# Percent values for each energy production between 2015-2018\n",
    "oil_percent = round(energy_type[0]/total_energy_sum,2)*100\n",
    "hydro_percent = round(energy_type[1]/total_energy_sum,2)*100\n",
    "solar_percent = round(energy_type[2]/total_energy_sum,2)*100\n",
    "nuclear_percent = round(energy_type[3]/total_energy_sum,2)*100\n",
    "\n",
    "# Plot variables\n",
    "percents = [oil_percent,hydro_percent,solar_percent,nuclear_percent]\n",
    "labels = [\"Oil\",\"Hydro\",\"Solar\",\"Nuclear\"]\n",
    "color = [\"red\",\"royalblue\",\"orange\",\"green\"]\n",
    "\n",
    "# Plot formatting\n",
    "explode = (0.05, 0.06, 0.05, 0.1)\n",
    "plt.pie(percents,labels=labels,colors=color,autopct=\"%1.1f%%\",pctdistance=.8,radius=1,shadow=True,explode=explode,startangle=350)\n",
    "plt.title(\"Percent Total Energy Produced (2015-2018)\")\n",
    "plt.axis(\"equal\")\n",
    "\n",
    "plt.show"
   ]
  },
  {
   "cell_type": "markdown",
   "metadata": {},
   "source": [
    "## Spains's Energy Prodcution vs Forecast Description"
   ]
  },
  {
   "cell_type": "code",
   "execution_count": 9,
   "metadata": {},
   "outputs": [
    {
     "data": {
      "text/html": [
       "<div>\n",
       "<style scoped>\n",
       "    .dataframe tbody tr th:only-of-type {\n",
       "        vertical-align: middle;\n",
       "    }\n",
       "\n",
       "    .dataframe tbody tr th {\n",
       "        vertical-align: top;\n",
       "    }\n",
       "\n",
       "    .dataframe thead th {\n",
       "        text-align: right;\n",
       "    }\n",
       "</style>\n",
       "<table border=\"1\" class=\"dataframe\">\n",
       "  <thead>\n",
       "    <tr style=\"text-align: right;\">\n",
       "      <th></th>\n",
       "      <th>Oil</th>\n",
       "      <th>Hydro River/Resivoir</th>\n",
       "      <th>Solar</th>\n",
       "      <th>Nuclear</th>\n",
       "    </tr>\n",
       "    <tr>\n",
       "      <th>Weather Description</th>\n",
       "      <th></th>\n",
       "      <th></th>\n",
       "      <th></th>\n",
       "      <th></th>\n",
       "    </tr>\n",
       "  </thead>\n",
       "  <tbody>\n",
       "    <tr>\n",
       "      <th>clear</th>\n",
       "      <td>299.068279</td>\n",
       "      <td>3432.385896</td>\n",
       "      <td>1424.505440</td>\n",
       "      <td>6250.743583</td>\n",
       "    </tr>\n",
       "    <tr>\n",
       "      <th>clouds</th>\n",
       "      <td>298.550244</td>\n",
       "      <td>3697.507526</td>\n",
       "      <td>1560.444640</td>\n",
       "      <td>6269.021932</td>\n",
       "    </tr>\n",
       "    <tr>\n",
       "      <th>drizzle</th>\n",
       "      <td>293.254640</td>\n",
       "      <td>3807.633411</td>\n",
       "      <td>1167.790023</td>\n",
       "      <td>6189.147912</td>\n",
       "    </tr>\n",
       "    <tr>\n",
       "      <th>dust</th>\n",
       "      <td>320.792507</td>\n",
       "      <td>3701.175793</td>\n",
       "      <td>1491.726225</td>\n",
       "      <td>6594.783862</td>\n",
       "    </tr>\n",
       "    <tr>\n",
       "      <th>fog</th>\n",
       "      <td>285.186353</td>\n",
       "      <td>3490.924581</td>\n",
       "      <td>918.142059</td>\n",
       "      <td>6269.790503</td>\n",
       "    </tr>\n",
       "    <tr>\n",
       "      <th>haze</th>\n",
       "      <td>290.949425</td>\n",
       "      <td>3118.737931</td>\n",
       "      <td>364.317241</td>\n",
       "      <td>6363.988506</td>\n",
       "    </tr>\n",
       "    <tr>\n",
       "      <th>mist</th>\n",
       "      <td>287.920676</td>\n",
       "      <td>3374.267400</td>\n",
       "      <td>937.701638</td>\n",
       "      <td>6288.136643</td>\n",
       "    </tr>\n",
       "    <tr>\n",
       "      <th>rain</th>\n",
       "      <td>296.782351</td>\n",
       "      <td>3865.917108</td>\n",
       "      <td>1171.143219</td>\n",
       "      <td>6306.332604</td>\n",
       "    </tr>\n",
       "    <tr>\n",
       "      <th>smoke</th>\n",
       "      <td>321.090909</td>\n",
       "      <td>3306.696970</td>\n",
       "      <td>415.969697</td>\n",
       "      <td>5614.424242</td>\n",
       "    </tr>\n",
       "    <tr>\n",
       "      <th>snow</th>\n",
       "      <td>296.162963</td>\n",
       "      <td>4419.170370</td>\n",
       "      <td>1530.144444</td>\n",
       "      <td>6187.188889</td>\n",
       "    </tr>\n",
       "    <tr>\n",
       "      <th>squall</th>\n",
       "      <td>307.000000</td>\n",
       "      <td>7903.000000</td>\n",
       "      <td>5239.000000</td>\n",
       "      <td>5039.000000</td>\n",
       "    </tr>\n",
       "    <tr>\n",
       "      <th>thunderstorm</th>\n",
       "      <td>294.941402</td>\n",
       "      <td>3359.083573</td>\n",
       "      <td>1349.096061</td>\n",
       "      <td>6121.926033</td>\n",
       "    </tr>\n",
       "  </tbody>\n",
       "</table>\n",
       "</div>"
      ],
      "text/plain": [
       "                            Oil  Hydro River/Resivoir        Solar  \\\n",
       "Weather Description                                                  \n",
       "clear                299.068279           3432.385896  1424.505440   \n",
       "clouds               298.550244           3697.507526  1560.444640   \n",
       "drizzle              293.254640           3807.633411  1167.790023   \n",
       "dust                 320.792507           3701.175793  1491.726225   \n",
       "fog                  285.186353           3490.924581   918.142059   \n",
       "haze                 290.949425           3118.737931   364.317241   \n",
       "mist                 287.920676           3374.267400   937.701638   \n",
       "rain                 296.782351           3865.917108  1171.143219   \n",
       "smoke                321.090909           3306.696970   415.969697   \n",
       "snow                 296.162963           4419.170370  1530.144444   \n",
       "squall               307.000000           7903.000000  5239.000000   \n",
       "thunderstorm         294.941402           3359.083573  1349.096061   \n",
       "\n",
       "                         Nuclear  \n",
       "Weather Description               \n",
       "clear                6250.743583  \n",
       "clouds               6269.021932  \n",
       "drizzle              6189.147912  \n",
       "dust                 6594.783862  \n",
       "fog                  6269.790503  \n",
       "haze                 6363.988506  \n",
       "mist                 6288.136643  \n",
       "rain                 6306.332604  \n",
       "smoke                5614.424242  \n",
       "snow                 6187.188889  \n",
       "squall               5039.000000  \n",
       "thunderstorm         6121.926033  "
      ]
     },
     "execution_count": 9,
     "metadata": {},
     "output_type": "execute_result"
    }
   ],
   "source": [
    "# Average energy prodcution by weather description (2015-2018)\n",
    "weather_desc = smaller_better_big_df.groupby(\"Weather Description\")[\"Oil\",\"Hydro River/Resivoir\",\"Solar\",\"Nuclear\"].mean()\n",
    "weather_desc"
   ]
  },
  {
   "cell_type": "code",
   "execution_count": 10,
   "metadata": {},
   "outputs": [
    {
     "data": {
      "text/plain": [
       "<function matplotlib.pyplot.show(*args, **kw)>"
      ]
     },
     "execution_count": 10,
     "metadata": {},
     "output_type": "execute_result"
    },
    {
     "data": {
      "image/png": "[encoded data removed]",
      "text/plain": [
       "<Figure size 432x288 with 1 Axes>"
      ]
     },
     "metadata": {
      "needs_background": "light"
     },
     "output_type": "display_data"
    }
   ],
   "source": [
    "# Create weather description bar chart\n",
    "x_limit_desc = np.arange(0,len(weather_desc),1)\n",
    "foreceast = [\"clear\",\"clouds\",\"drizzle\",\"dust\",\"fog\",\"haze\",\"mist\",\"rain\",\"smoke\",\"snow\",\"squall\",\"thunderstorm\"]\n",
    "\n",
    "# Plot each energy type\n",
    "plt.bar(x_limit_desc,weather_desc[\"Nuclear\"], color=\"green\", label=\"Nuclear\")\n",
    "plt.bar(x_limit_desc,weather_desc[\"Hydro River/Resivoir\"], color=\"royalblue\", label=\"Hydro\")\n",
    "plt.bar(x_limit_desc,weather_desc[\"Solar\"], color=\"orange\", label=\"Solar\")\n",
    "plt.bar(x_limit_desc,weather_desc[\"Oil\"], color=\"red\", label=\"Oil\")\n",
    "\n",
    "plt.title(\"Spain's...wait, what's a squall??\")\n",
    "plt.xlabel(\"Forecast Description\")\n",
    "plt.ylabel(\"Avg Energy Production\")\n",
    "plt.legend(loc=\"center left\", bbox_to_anchor=(1, 0.5), fancybox=True)\n",
    "\n",
    "tick_locations = [value for value in x_limit_desc]\n",
    "plt.xticks(tick_locations, foreceast, rotation=75)\n",
    "\n",
    "plt.show"
   ]
  },
  {
   "cell_type": "markdown",
   "metadata": {},
   "source": [
    "## Spain's Energy Prodcution vs Forecast Description [V2]\n",
    "* *SQUALL OUTLIER RESOLVED"
   ]
  },
  {
   "cell_type": "code",
   "execution_count": 11,
   "metadata": {},
   "outputs": [
    {
     "data": {
      "text/html": [
       "<div>\n",
       "<style scoped>\n",
       "    .dataframe tbody tr th:only-of-type {\n",
       "        vertical-align: middle;\n",
       "    }\n",
       "\n",
       "    .dataframe tbody tr th {\n",
       "        vertical-align: top;\n",
       "    }\n",
       "\n",
       "    .dataframe thead th {\n",
       "        text-align: right;\n",
       "    }\n",
       "</style>\n",
       "<table border=\"1\" class=\"dataframe\">\n",
       "  <thead>\n",
       "    <tr style=\"text-align: right;\">\n",
       "      <th></th>\n",
       "      <th>Oil</th>\n",
       "      <th>Hydro River/Resivoir</th>\n",
       "      <th>Solar</th>\n",
       "      <th>Nuclear</th>\n",
       "    </tr>\n",
       "    <tr>\n",
       "      <th>Weather Description</th>\n",
       "      <th></th>\n",
       "      <th></th>\n",
       "      <th></th>\n",
       "      <th></th>\n",
       "    </tr>\n",
       "  </thead>\n",
       "  <tbody>\n",
       "    <tr>\n",
       "      <th>clear</th>\n",
       "      <td>299.068279</td>\n",
       "      <td>3432.385896</td>\n",
       "      <td>1424.505440</td>\n",
       "      <td>6250.743583</td>\n",
       "    </tr>\n",
       "    <tr>\n",
       "      <th>clouds</th>\n",
       "      <td>298.550244</td>\n",
       "      <td>3697.507526</td>\n",
       "      <td>1560.444640</td>\n",
       "      <td>6269.021932</td>\n",
       "    </tr>\n",
       "    <tr>\n",
       "      <th>drizzle</th>\n",
       "      <td>293.254640</td>\n",
       "      <td>3807.633411</td>\n",
       "      <td>1167.790023</td>\n",
       "      <td>6189.147912</td>\n",
       "    </tr>\n",
       "    <tr>\n",
       "      <th>dust</th>\n",
       "      <td>320.792507</td>\n",
       "      <td>3701.175793</td>\n",
       "      <td>1491.726225</td>\n",
       "      <td>6594.783862</td>\n",
       "    </tr>\n",
       "    <tr>\n",
       "      <th>fog</th>\n",
       "      <td>285.186353</td>\n",
       "      <td>3490.924581</td>\n",
       "      <td>918.142059</td>\n",
       "      <td>6269.790503</td>\n",
       "    </tr>\n",
       "    <tr>\n",
       "      <th>haze</th>\n",
       "      <td>290.949425</td>\n",
       "      <td>3118.737931</td>\n",
       "      <td>364.317241</td>\n",
       "      <td>6363.988506</td>\n",
       "    </tr>\n",
       "    <tr>\n",
       "      <th>mist</th>\n",
       "      <td>287.920676</td>\n",
       "      <td>3374.267400</td>\n",
       "      <td>937.701638</td>\n",
       "      <td>6288.136643</td>\n",
       "    </tr>\n",
       "    <tr>\n",
       "      <th>rain</th>\n",
       "      <td>296.782351</td>\n",
       "      <td>3865.917108</td>\n",
       "      <td>1171.143219</td>\n",
       "      <td>6306.332604</td>\n",
       "    </tr>\n",
       "    <tr>\n",
       "      <th>smoke</th>\n",
       "      <td>321.090909</td>\n",
       "      <td>3306.696970</td>\n",
       "      <td>415.969697</td>\n",
       "      <td>5614.424242</td>\n",
       "    </tr>\n",
       "    <tr>\n",
       "      <th>snow</th>\n",
       "      <td>296.162963</td>\n",
       "      <td>4419.170370</td>\n",
       "      <td>1530.144444</td>\n",
       "      <td>6187.188889</td>\n",
       "    </tr>\n",
       "    <tr>\n",
       "      <th>thunderstorm</th>\n",
       "      <td>294.941402</td>\n",
       "      <td>3359.083573</td>\n",
       "      <td>1349.096061</td>\n",
       "      <td>6121.926033</td>\n",
       "    </tr>\n",
       "  </tbody>\n",
       "</table>\n",
       "</div>"
      ],
      "text/plain": [
       "                            Oil  Hydro River/Resivoir        Solar  \\\n",
       "Weather Description                                                  \n",
       "clear                299.068279           3432.385896  1424.505440   \n",
       "clouds               298.550244           3697.507526  1560.444640   \n",
       "drizzle              293.254640           3807.633411  1167.790023   \n",
       "dust                 320.792507           3701.175793  1491.726225   \n",
       "fog                  285.186353           3490.924581   918.142059   \n",
       "haze                 290.949425           3118.737931   364.317241   \n",
       "mist                 287.920676           3374.267400   937.701638   \n",
       "rain                 296.782351           3865.917108  1171.143219   \n",
       "smoke                321.090909           3306.696970   415.969697   \n",
       "snow                 296.162963           4419.170370  1530.144444   \n",
       "thunderstorm         294.941402           3359.083573  1349.096061   \n",
       "\n",
       "                         Nuclear  \n",
       "Weather Description               \n",
       "clear                6250.743583  \n",
       "clouds               6269.021932  \n",
       "drizzle              6189.147912  \n",
       "dust                 6594.783862  \n",
       "fog                  6269.790503  \n",
       "haze                 6363.988506  \n",
       "mist                 6288.136643  \n",
       "rain                 6306.332604  \n",
       "smoke                5614.424242  \n",
       "snow                 6187.188889  \n",
       "thunderstorm         6121.926033  "
      ]
     },
     "execution_count": 11,
     "metadata": {},
     "output_type": "execute_result"
    }
   ],
   "source": [
    "# Average energy prodcution by weather description (2015-2018) - NO SQUALL ¯\\_(ツ)_/¯\n",
    "weather_desc_nosqaull = weather_desc\n",
    "weather_desc_nosqaull = weather_desc_nosqaull.drop(\"squall\", axis=0)\n",
    "weather_desc_nosqaull"
   ]
  },
  {
   "cell_type": "code",
   "execution_count": 12,
   "metadata": {},
   "outputs": [
    {
     "data": {
      "text/plain": [
       "<function matplotlib.pyplot.show(*args, **kw)>"
      ]
     },
     "execution_count": 12,
     "metadata": {},
     "output_type": "execute_result"
    },
    {
     "data": {
      "image/png": "[encoded data removed]",
      "text/plain": [
       "<Figure size 432x288 with 1 Axes>"
      ]
     },
     "metadata": {
      "needs_background": "light"
     },
     "output_type": "display_data"
    }
   ],
   "source": [
    "# Create weather description bar chart (no squall)\n",
    "x_limit_desc_2 = np.arange(0,len(weather_desc_nosqaull),1)\n",
    "foreceast = [\"clear\",\"clouds\",\"drizzle\",\"dust\",\"fog\",\"haze\",\"mist\",\"rain\",\"smoke\",\"snow\",\"thunderstorm\"]\n",
    "\n",
    "# Plot each energy type\n",
    "plt.bar(x_limit_desc_2,weather_desc_nosqaull[\"Nuclear\"], color=\"green\", label=\"Nuclear\")\n",
    "plt.bar(x_limit_desc_2,weather_desc_nosqaull[\"Hydro River/Resivoir\"], color=\"royalblue\", label=\"Hydro\")\n",
    "plt.bar(x_limit_desc_2,weather_desc_nosqaull[\"Solar\"], color=\"orange\", label=\"Solar\")\n",
    "plt.bar(x_limit_desc_2,weather_desc_nosqaull[\"Oil\"], color=\"red\", label=\"Oil\")\n",
    "\n",
    "plt.title(\"Spain's Energy Production vs Forecast Description \\n (2015-2018)\")\n",
    "plt.xlabel(\"Forecast Description\")\n",
    "plt.ylabel(\"Avg Energy Production\")\n",
    "plt.legend(loc=\"center left\", bbox_to_anchor=(1, 0.5), fancybox=True)\n",
    "\n",
    "tick_locations = [value for value in x_limit_desc_2]\n",
    "plt.xticks(tick_locations, foreceast, rotation=75)\n",
    "\n",
    "plt.show"
   ]
  },
  {
   "cell_type": "markdown",
   "metadata": {},
   "source": [
    "## Spain's Energy Production vs Seasons"
   ]
  },
  {
   "cell_type": "code",
   "execution_count": 13,
   "metadata": {},
   "outputs": [
    {
     "data": {
      "text/html": [
       "<div>\n",
       "<style scoped>\n",
       "    .dataframe tbody tr th:only-of-type {\n",
       "        vertical-align: middle;\n",
       "    }\n",
       "\n",
       "    .dataframe tbody tr th {\n",
       "        vertical-align: top;\n",
       "    }\n",
       "\n",
       "    .dataframe thead th {\n",
       "        text-align: right;\n",
       "    }\n",
       "</style>\n",
       "<table border=\"1\" class=\"dataframe\">\n",
       "  <thead>\n",
       "    <tr style=\"text-align: right;\">\n",
       "      <th></th>\n",
       "      <th></th>\n",
       "      <th>Oil</th>\n",
       "      <th>Hydro River/Resivoir</th>\n",
       "      <th>Solar</th>\n",
       "      <th>Nuclear</th>\n",
       "    </tr>\n",
       "    <tr>\n",
       "      <th>Year</th>\n",
       "      <th>Season</th>\n",
       "      <th></th>\n",
       "      <th></th>\n",
       "      <th></th>\n",
       "      <th></th>\n",
       "    </tr>\n",
       "  </thead>\n",
       "  <tbody>\n",
       "    <tr>\n",
       "      <th rowspan=\"4\" valign=\"top\">2015</th>\n",
       "      <th>1-Spring</th>\n",
       "      <td>330.121339</td>\n",
       "      <td>3828.111363</td>\n",
       "      <td>1556.044890</td>\n",
       "      <td>6053.012333</td>\n",
       "    </tr>\n",
       "    <tr>\n",
       "      <th>2-Summer</th>\n",
       "      <td>334.795273</td>\n",
       "      <td>3068.405141</td>\n",
       "      <td>1898.528265</td>\n",
       "      <td>6201.178305</td>\n",
       "    </tr>\n",
       "    <tr>\n",
       "      <th>3-Fall</th>\n",
       "      <td>337.442419</td>\n",
       "      <td>3057.613718</td>\n",
       "      <td>1273.814621</td>\n",
       "      <td>6094.759567</td>\n",
       "    </tr>\n",
       "    <tr>\n",
       "      <th>4-Winter</th>\n",
       "      <td>318.651729</td>\n",
       "      <td>3675.687430</td>\n",
       "      <td>1076.598364</td>\n",
       "      <td>6656.718948</td>\n",
       "    </tr>\n",
       "    <tr>\n",
       "      <th rowspan=\"4\" valign=\"top\">2016</th>\n",
       "      <th>1-Spring</th>\n",
       "      <td>277.283107</td>\n",
       "      <td>5902.118468</td>\n",
       "      <td>1489.248210</td>\n",
       "      <td>6370.393701</td>\n",
       "    </tr>\n",
       "    <tr>\n",
       "      <th>2-Summer</th>\n",
       "      <td>286.561278</td>\n",
       "      <td>3603.334178</td>\n",
       "      <td>1898.815532</td>\n",
       "      <td>6637.388306</td>\n",
       "    </tr>\n",
       "    <tr>\n",
       "      <th>3-Fall</th>\n",
       "      <td>276.230133</td>\n",
       "      <td>3208.980313</td>\n",
       "      <td>1160.600324</td>\n",
       "      <td>6253.274002</td>\n",
       "    </tr>\n",
       "    <tr>\n",
       "      <th>4-Winter</th>\n",
       "      <td>303.715837</td>\n",
       "      <td>4879.299475</td>\n",
       "      <td>1052.829431</td>\n",
       "      <td>6239.353334</td>\n",
       "    </tr>\n",
       "    <tr>\n",
       "      <th rowspan=\"4\" valign=\"top\">2017</th>\n",
       "      <th>1-Spring</th>\n",
       "      <td>285.589515</td>\n",
       "      <td>2821.749019</td>\n",
       "      <td>1557.531384</td>\n",
       "      <td>6329.943028</td>\n",
       "    </tr>\n",
       "    <tr>\n",
       "      <th>2-Summer</th>\n",
       "      <td>304.678750</td>\n",
       "      <td>2029.796813</td>\n",
       "      <td>1899.550036</td>\n",
       "      <td>6288.721088</td>\n",
       "    </tr>\n",
       "    <tr>\n",
       "      <th>3-Fall</th>\n",
       "      <td>300.529943</td>\n",
       "      <td>1964.209015</td>\n",
       "      <td>1415.362750</td>\n",
       "      <td>6000.322103</td>\n",
       "    </tr>\n",
       "    <tr>\n",
       "      <th>4-Winter</th>\n",
       "      <td>287.984626</td>\n",
       "      <td>2687.722202</td>\n",
       "      <td>1097.527529</td>\n",
       "      <td>6774.324991</td>\n",
       "    </tr>\n",
       "    <tr>\n",
       "      <th rowspan=\"4\" valign=\"top\">2018</th>\n",
       "      <th>1-Spring</th>\n",
       "      <td>275.735126</td>\n",
       "      <td>5321.204848</td>\n",
       "      <td>1460.755046</td>\n",
       "      <td>5693.780167</td>\n",
       "    </tr>\n",
       "    <tr>\n",
       "      <th>2-Summer</th>\n",
       "      <td>283.372912</td>\n",
       "      <td>3985.713490</td>\n",
       "      <td>1855.219777</td>\n",
       "      <td>6134.169930</td>\n",
       "    </tr>\n",
       "    <tr>\n",
       "      <th>3-Fall</th>\n",
       "      <td>286.811597</td>\n",
       "      <td>3370.279635</td>\n",
       "      <td>1109.127671</td>\n",
       "      <td>6190.889884</td>\n",
       "    </tr>\n",
       "    <tr>\n",
       "      <th>4-Winter</th>\n",
       "      <td>282.997173</td>\n",
       "      <td>3826.332332</td>\n",
       "      <td>1058.722615</td>\n",
       "      <td>6318.783922</td>\n",
       "    </tr>\n",
       "  </tbody>\n",
       "</table>\n",
       "</div>"
      ],
      "text/plain": [
       "                      Oil  Hydro River/Resivoir        Solar      Nuclear\n",
       "Year Season                                                              \n",
       "2015 1-Spring  330.121339           3828.111363  1556.044890  6053.012333\n",
       "     2-Summer  334.795273           3068.405141  1898.528265  6201.178305\n",
       "     3-Fall    337.442419           3057.613718  1273.814621  6094.759567\n",
       "     4-Winter  318.651729           3675.687430  1076.598364  6656.718948\n",
       "2016 1-Spring  277.283107           5902.118468  1489.248210  6370.393701\n",
       "     2-Summer  286.561278           3603.334178  1898.815532  6637.388306\n",
       "     3-Fall    276.230133           3208.980313  1160.600324  6253.274002\n",
       "     4-Winter  303.715837           4879.299475  1052.829431  6239.353334\n",
       "2017 1-Spring  285.589515           2821.749019  1557.531384  6329.943028\n",
       "     2-Summer  304.678750           2029.796813  1899.550036  6288.721088\n",
       "     3-Fall    300.529943           1964.209015  1415.362750  6000.322103\n",
       "     4-Winter  287.984626           2687.722202  1097.527529  6774.324991\n",
       "2018 1-Spring  275.735126           5321.204848  1460.755046  5693.780167\n",
       "     2-Summer  283.372912           3985.713490  1855.219777  6134.169930\n",
       "     3-Fall    286.811597           3370.279635  1109.127671  6190.889884\n",
       "     4-Winter  282.997173           3826.332332  1058.722615  6318.783922"
      ]
     },
     "execution_count": 13,
     "metadata": {},
     "output_type": "execute_result"
    }
   ],
   "source": [
    "# Average energy production by year by season\n",
    "spain_seasons = smaller_better_big_df.groupby([\"Year\",\"Season\"])[\"Oil\",\"Hydro River/Resivoir\",\"Solar\",\"Nuclear\"].mean()\n",
    "spain_seasons"
   ]
  },
  {
   "cell_type": "code",
   "execution_count": 14,
   "metadata": {},
   "outputs": [
    {
     "data": {
      "text/plain": [
       "<function matplotlib.pyplot.show(*args, **kw)>"
      ]
     },
     "execution_count": 14,
     "metadata": {},
     "output_type": "execute_result"
    },
    {
     "data": {
      "image/png": "[encoded data removed]",
      "text/plain": [
       "<Figure size 432x288 with 1 Axes>"
      ]
     },
     "metadata": {
      "needs_background": "light"
     },
     "output_type": "display_data"
    }
   ],
   "source": [
    "# Create bar chart with each season from each year\n",
    "x_limit_season = np.arange(0,len(spain_seasons),1)\n",
    "season_names = [\"Spring 2015\",\"Summer 2015\",\"Fall 2015\",\"Winter 2015\",\n",
    "                \"Spring 2016\",\"Summer 2016\",\"Fall 2016\",\"Winter 2016\",\n",
    "                \"Spring 2017\",\"Summer 2017\",\"Fall 2017\",\"Winter 2017\",\n",
    "                \"Spring 2018\",\"Summer 2018\",\"Fall 2018\",\"Winter 2018\",]\n",
    "\n",
    "# Plot each energy type\n",
    "plt.fill_between(x_limit_season,spain_seasons[\"Nuclear\"], color=\"green\", label='Nuclear')\n",
    "plt.fill_between(x_limit_season,spain_seasons[\"Hydro River/Resivoir\"], color=\"royalblue\", label='Hydro')\n",
    "plt.fill_between(x_limit_season,spain_seasons[\"Solar\"], color=\"orange\", label='Solar')\n",
    "plt.fill_between(x_limit_season,spain_seasons[\"Oil\"], color=\"red\", label='Oil')\n",
    "plt.grid(axis=\"both\")\n",
    "plt.xlim(0,0,1)\n",
    "plt.ylim(0,7000)\n",
    "\n",
    "plt.title(\"Spain's Energy Production vs Seasons \\n (2015-2018)\")\n",
    "plt.xlabel(\"Season\")\n",
    "plt.ylabel(\"Avg Energy Production\")\n",
    "plt.legend(loc=\"center left\", bbox_to_anchor=(1, 0.5), fancybox=True)\n",
    "\n",
    "tick_locations = [value for value in x_limit_season]\n",
    "plt.xticks(tick_locations, season_names, rotation=75)\n",
    "\n",
    "# Show figure\n",
    "plt.show"
   ]
  },
  {
   "cell_type": "markdown",
   "metadata": {},
   "source": [
    "<hr>\n",
    "\n",
    "# Madrid"
   ]
  },
  {
   "cell_type": "code",
   "execution_count": 15,
   "metadata": {},
   "outputs": [],
   "source": [
    "# Create Dataframe for Madrid\n",
    "madrid_df = smaller_better_big_df.loc[better_big_df[\"City\"]==\"Madrid\"]\n",
    "\n",
    "# Preview\n",
    "# madrid_df.head()"
   ]
  },
  {
   "cell_type": "markdown",
   "metadata": {},
   "source": [
    "### Madrid's Energy Prodcution vs Forecast Description"
   ]
  },
  {
   "cell_type": "code",
   "execution_count": 16,
   "metadata": {},
   "outputs": [],
   "source": [
    "# Average energy prodcution by weather description (2015-2018)\n",
    "weather_desc_mad = madrid_df.groupby(\"Weather Description\")[\"Oil\",\"Hydro River/Resivoir\",\"Solar\",\"Nuclear\"].mean()\n",
    "# weather_desc_mad"
   ]
  },
  {
   "cell_type": "code",
   "execution_count": 17,
   "metadata": {},
   "outputs": [
    {
     "data": {
      "text/plain": [
       "<function matplotlib.pyplot.show(*args, **kw)>"
      ]
     },
     "execution_count": 17,
     "metadata": {},
     "output_type": "execute_result"
    },
    {
     "data": {
      "image/png": "[encoded data removed]",
      "text/plain": [
       "<Figure size 432x288 with 1 Axes>"
      ]
     },
     "metadata": {
      "needs_background": "light"
     },
     "output_type": "display_data"
    }
   ],
   "source": [
    "# Create weather description bar chart\n",
    "x_limit_desc_mad = np.arange(0,len(weather_desc_mad),1)\n",
    "foreceast = [\"clear\",\"clouds\",\"drizzle\",\"dust\",\"fog\",\"haze\",\"mist\",\"rain\",\"smoke\",\"snow\",\"thunderstorm\"]\n",
    "\n",
    "# Plot each energy type\n",
    "plt.bar(x_limit_desc_mad,weather_desc_mad[\"Nuclear\"], color=\"green\", label=\"Nuclear\")\n",
    "plt.bar(x_limit_desc_mad,weather_desc_mad[\"Hydro River/Resivoir\"], color=\"royalblue\", label=\"Hydro\")\n",
    "plt.bar(x_limit_desc_mad,weather_desc_mad[\"Solar\"], color=\"orange\", label=\"Solar\")\n",
    "plt.bar(x_limit_desc_mad,weather_desc_mad[\"Oil\"], color=\"red\", label=\"Oil\")\n",
    "\n",
    "plt.title(\"Madrid's Energy Production vs Forecast Description \\n (2015-2018)\")\n",
    "plt.xlabel(\"Forecast Description\")\n",
    "plt.ylabel(\"Avg Energy Production\")\n",
    "plt.legend(loc=\"center left\", bbox_to_anchor=(1, 0.5), fancybox=True)\n",
    "\n",
    "tick_locations = [value for value in x_limit_desc_mad]\n",
    "plt.xticks(tick_locations, foreceast, rotation=75)\n",
    "\n",
    "plt.show"
   ]
  },
  {
   "cell_type": "markdown",
   "metadata": {},
   "source": [
    "### Madrid's Energy Production vs Temperature (F)"
   ]
  },
  {
   "cell_type": "code",
   "execution_count": 18,
   "metadata": {},
   "outputs": [
    {
     "data": {
      "text/html": [
       "<div>\n",
       "<style scoped>\n",
       "    .dataframe tbody tr th:only-of-type {\n",
       "        vertical-align: middle;\n",
       "    }\n",
       "\n",
       "    .dataframe tbody tr th {\n",
       "        vertical-align: top;\n",
       "    }\n",
       "\n",
       "    .dataframe thead th {\n",
       "        text-align: right;\n",
       "    }\n",
       "</style>\n",
       "<table border=\"1\" class=\"dataframe\">\n",
       "  <thead>\n",
       "    <tr style=\"text-align: right;\">\n",
       "      <th></th>\n",
       "      <th></th>\n",
       "      <th>Temp (F)</th>\n",
       "      <th>Clouds</th>\n",
       "      <th>Oil</th>\n",
       "      <th>Hydro River/Resivoir</th>\n",
       "      <th>Solar</th>\n",
       "      <th>Nuclear</th>\n",
       "    </tr>\n",
       "    <tr>\n",
       "      <th>Year</th>\n",
       "      <th>Month</th>\n",
       "      <th></th>\n",
       "      <th></th>\n",
       "      <th></th>\n",
       "      <th></th>\n",
       "      <th></th>\n",
       "      <th></th>\n",
       "    </tr>\n",
       "  </thead>\n",
       "  <tbody>\n",
       "    <tr>\n",
       "      <th rowspan=\"5\" valign=\"top\">2015</th>\n",
       "      <th>1</th>\n",
       "      <td>35.312087</td>\n",
       "      <td>22.350614</td>\n",
       "      <td>306.020464</td>\n",
       "      <td>3599.518417</td>\n",
       "      <td>1130.392906</td>\n",
       "      <td>6665.969986</td>\n",
       "    </tr>\n",
       "    <tr>\n",
       "      <th>2</th>\n",
       "      <td>43.985208</td>\n",
       "      <td>36.153274</td>\n",
       "      <td>319.239583</td>\n",
       "      <td>4872.995536</td>\n",
       "      <td>1244.525298</td>\n",
       "      <td>6681.123512</td>\n",
       "    </tr>\n",
       "    <tr>\n",
       "      <th>3</th>\n",
       "      <td>49.874186</td>\n",
       "      <td>27.309556</td>\n",
       "      <td>319.333782</td>\n",
       "      <td>4255.799462</td>\n",
       "      <td>1283.479139</td>\n",
       "      <td>6687.913863</td>\n",
       "    </tr>\n",
       "    <tr>\n",
       "      <th>4</th>\n",
       "      <td>55.189220</td>\n",
       "      <td>32.452646</td>\n",
       "      <td>338.781337</td>\n",
       "      <td>3521.562674</td>\n",
       "      <td>1461.519499</td>\n",
       "      <td>6068.169916</td>\n",
       "    </tr>\n",
       "    <tr>\n",
       "      <th>5</th>\n",
       "      <td>66.641868</td>\n",
       "      <td>16.774194</td>\n",
       "      <td>332.567204</td>\n",
       "      <td>3696.350806</td>\n",
       "      <td>1920.272849</td>\n",
       "      <td>5403.817204</td>\n",
       "    </tr>\n",
       "  </tbody>\n",
       "</table>\n",
       "</div>"
      ],
      "text/plain": [
       "             Temp (F)     Clouds         Oil  Hydro River/Resivoir  \\\n",
       "Year Month                                                           \n",
       "2015 1      35.312087  22.350614  306.020464           3599.518417   \n",
       "     2      43.985208  36.153274  319.239583           4872.995536   \n",
       "     3      49.874186  27.309556  319.333782           4255.799462   \n",
       "     4      55.189220  32.452646  338.781337           3521.562674   \n",
       "     5      66.641868  16.774194  332.567204           3696.350806   \n",
       "\n",
       "                  Solar      Nuclear  \n",
       "Year Month                            \n",
       "2015 1      1130.392906  6665.969986  \n",
       "     2      1244.525298  6681.123512  \n",
       "     3      1283.479139  6687.913863  \n",
       "     4      1461.519499  6068.169916  \n",
       "     5      1920.272849  5403.817204  "
      ]
     },
     "execution_count": 18,
     "metadata": {},
     "output_type": "execute_result"
    }
   ],
   "source": [
    "# Average temperture / cloudiness (2015-2018)\n",
    "madrid_weather = madrid_df.groupby([\"Year\",\"Month\"])[\"Temp (F)\",\"Clouds\"].mean()\n",
    "# Average energy production (2015-2018)\n",
    "madrid_energy = madrid_df.groupby([\"Year\",\"Month\"])[\"Oil\",\"Hydro River/Resivoir\",\"Solar\",\"Nuclear\"].mean()\n",
    "\n",
    "# Weather vs energy production\n",
    "madrid_weather_vs_engery_production = pd.merge(madrid_weather, madrid_energy, on=[\"Year\",\"Month\"])\n",
    "madrid_weather_vs_engery_production.head()"
   ]
  },
  {
   "cell_type": "code",
   "execution_count": 19,
   "metadata": {},
   "outputs": [
    {
     "data": {
      "text/plain": [
       "<function matplotlib.pyplot.show(*args, **kw)>"
      ]
     },
     "execution_count": 19,
     "metadata": {},
     "output_type": "execute_result"
    },
    {
     "data": {
      "image/png": "[encoded data removed]",
      "text/plain": [
       "<Figure size 432x288 with 1 Axes>"
      ]
     },
     "metadata": {
      "needs_background": "light"
     },
     "output_type": "display_data"
    }
   ],
   "source": [
    "# Scatter plot: average energy production per month by temp (over 2015-2018)\n",
    "\n",
    "# Plot each energy type\n",
    "plt.scatter(madrid_weather_vs_engery_production[\"Temp (F)\"],madrid_weather_vs_engery_production[\"Nuclear\"], label=\"Nuclear\", color=\"green\", alpha=.7, edgecolors=\"black\")\n",
    "plt.scatter(madrid_weather_vs_engery_production[\"Temp (F)\"],madrid_weather_vs_engery_production[\"Hydro River/Resivoir\"], label=\"Hydro\", color=\"royalblue\", alpha=.7, edgecolors=\"black\")\n",
    "plt.scatter(madrid_weather_vs_engery_production[\"Temp (F)\"],madrid_weather_vs_engery_production[\"Solar\"], label=\"Solar\", color=\"orange\", alpha=.7, edgecolors=\"black\")\n",
    "plt.scatter(madrid_weather_vs_engery_production[\"Temp (F)\"],madrid_weather_vs_engery_production[\"Oil\"], label=\"Oil\", color=\"red\", alpha=.7, edgecolors=\"black\")\n",
    "\n",
    "plt.title(\"Madrid's Energy Production vs Avg Monthly Temperature \\n (2015-2018)\")\n",
    "plt.xlabel(\"Temperature (F)\")\n",
    "plt.ylabel(\"Avg Energy Production\")\n",
    "plt.grid(axis=\"both\")\n",
    "plt.legend(loc=\"center left\", bbox_to_anchor=(1, 0.5), fancybox=True)\n",
    "\n",
    "plt.show"
   ]
  },
  {
   "cell_type": "markdown",
   "metadata": {},
   "source": [
    "<hr>\n",
    "\n",
    "# Bilbao"
   ]
  },
  {
   "cell_type": "code",
   "execution_count": 20,
   "metadata": {},
   "outputs": [],
   "source": [
    "# Create Dataframe for Bilbao\n",
    "bilbao_df = smaller_better_big_df.loc[smaller_better_big_df[\"City\"]==\"Bilbao\"]\n",
    "\n",
    "# Preview\n",
    "# bilbao_df.head()"
   ]
  },
  {
   "cell_type": "code",
   "execution_count": 21,
   "metadata": {},
   "outputs": [],
   "source": [
    "weather_desc_bilbao = bilbao_df.groupby(\"Weather Description\")[\"Oil\",\"Hydro River/Resivoir\",\"Solar\",\"Nuclear\"].mean()\n",
    "# Preview\n",
    "# weather_desc_bilbao"
   ]
  },
  {
   "cell_type": "code",
   "execution_count": 22,
   "metadata": {},
   "outputs": [
    {
     "data": {
      "text/plain": [
       "<function matplotlib.pyplot.show(*args, **kw)>"
      ]
     },
     "execution_count": 22,
     "metadata": {},
     "output_type": "execute_result"
    },
    {
     "data": {
      "image/png": "[encoded data removed]",
      "text/plain": [
       "<Figure size 432x288 with 1 Axes>"
      ]
     },
     "metadata": {
      "needs_background": "light"
     },
     "output_type": "display_data"
    }
   ],
   "source": [
    "x_limit_desc_bilbao = np.arange(0,len(weather_desc_bilbao),1)\n",
    "foreceast = [\"clear\",\"clouds\",\"drizzle\",\"dust\",\"fog\",\"mist\",\"rain\",\"smoke\",\"snow\",\"thunderstorm\"]\n",
    "\n",
    "# Plot each energy type\n",
    "plt.bar(x_limit_desc_bilbao,weather_desc_bilbao[\"Nuclear\"], color=\"green\", label=\"Nuclear\")\n",
    "plt.bar(x_limit_desc_bilbao,weather_desc_bilbao[\"Hydro River/Resivoir\"], color=\"royalblue\", label=\"Hydro\")\n",
    "plt.bar(x_limit_desc_bilbao,weather_desc_bilbao[\"Solar\"], color=\"orange\", label=\"Solar\")\n",
    "plt.bar(x_limit_desc_bilbao,weather_desc_bilbao[\"Oil\"], color=\"red\", label=\"Oil\")\n",
    "\n",
    "plt.title(\"Bilbao's Energy Production vs Forecast Description \\n (2015-2018)\")\n",
    "plt.xlabel(\"Forecast Description\")\n",
    "plt.ylabel(\"Avg Energy Production\")\n",
    "plt.legend(loc=\"center left\", bbox_to_anchor=(1, 0.5), fancybox=True)\n",
    "\n",
    "tick_locations = [value for value in x_limit_desc_bilbao]\n",
    "plt.xticks(tick_locations, foreceast, rotation=75)\n",
    "\n",
    "plt.show"
   ]
  },
  {
   "cell_type": "markdown",
   "metadata": {},
   "source": [
    "<hr>\n",
    "\n",
    "# Barcelona"
   ]
  },
  {
   "cell_type": "code",
   "execution_count": 23,
   "metadata": {},
   "outputs": [],
   "source": [
    "# Create Dataframe for Barcelona\n",
    "barcelona_df = smaller_better_big_df.loc[smaller_better_big_df[\"City\"]==\" Barcelona\"]\n",
    "barcelona_df = barcelona_df.rename(columns={\" Barcelona\":\"Barcelona\"})\n",
    "\n",
    "# Preview\n",
    "# barcelona_df.head()"
   ]
  },
  {
   "cell_type": "code",
   "execution_count": 24,
   "metadata": {},
   "outputs": [],
   "source": [
    "weather_desc_Bar = barcelona_df.groupby(\"Weather Description\")[\"Oil\",\"Hydro River/Resivoir\",\"Solar\",\"Nuclear\"].mean()\n",
    "# Preview\n",
    "# weather_desc_Bar"
   ]
  },
  {
   "cell_type": "code",
   "execution_count": 25,
   "metadata": {},
   "outputs": [
    {
     "data": {
      "text/plain": [
       "<function matplotlib.pyplot.show(*args, **kw)>"
      ]
     },
     "execution_count": 25,
     "metadata": {},
     "output_type": "execute_result"
    },
    {
     "data": {
      "image/png": "[encoded data removed]",
      "text/plain": [
       "<Figure size 432x288 with 1 Axes>"
      ]
     },
     "metadata": {
      "needs_background": "light"
     },
     "output_type": "display_data"
    }
   ],
   "source": [
    "x_limit_desc_Bar = np.arange(0,len(weather_desc_Bar),1)\n",
    "foreceast = [\"clear\",\"clouds\",\"drizzle\",\"dust\",\"fog\",\"mist\",\"rain\",\"smoke\",\"snow\",\"thunderstorm\"]\n",
    "\n",
    "# Plot each energy type\n",
    "plt.bar(x_limit_desc_Bar,weather_desc_Bar[\"Nuclear\"], color=\"green\", label=\"Nuclear\")\n",
    "plt.bar(x_limit_desc_Bar,weather_desc_Bar[\"Hydro River/Resivoir\"], color=\"royalblue\", label=\"Hydro\")\n",
    "plt.bar(x_limit_desc_Bar,weather_desc_Bar[\"Solar\"], color=\"orange\", label=\"Solar\")\n",
    "plt.bar(x_limit_desc_Bar,weather_desc_Bar[\"Oil\"], color=\"red\", label=\"Oil\")\n",
    "\n",
    "plt.title(\"Barcelona's Energy Production vs Forecast Description \\n (2015-2018)\")\n",
    "plt.xlabel(\"Forecast Description\")\n",
    "plt.ylabel(\"Avg Energy Production\")\n",
    "plt.legend(loc=\"center left\", bbox_to_anchor=(1, 0.5), fancybox=True)\n",
    "\n",
    "tick_locations = [value for value in x_limit_desc_Bar]\n",
    "plt.xticks(tick_locations, foreceast, rotation=75)\n",
    "\n",
    "plt.show"
   ]
  },
  {
   "cell_type": "markdown",
   "metadata": {},
   "source": [
    "<hr>\n",
    "\n",
    "# Seville"
   ]
  },
  {
   "cell_type": "code",
   "execution_count": 26,
   "metadata": {
    "scrolled": true
   },
   "outputs": [],
   "source": [
    "# Create Dataframe for Seville\n",
    "seville_df = smaller_better_big_df.loc[smaller_better_big_df[\"City\"]==\"Seville\"]\n",
    "\n",
    "# Preivew\n",
    "# seville_df.head()"
   ]
  },
  {
   "cell_type": "code",
   "execution_count": 27,
   "metadata": {},
   "outputs": [],
   "source": [
    "seville_weather_desc = seville_df.groupby(\"Weather Description\")[\"Oil\",\"Hydro River/Resivoir\",\"Solar\",\"Nuclear\"].mean()\n",
    "seville_weather_desc_nosqaull = seville_weather_desc\n",
    "seville_weather_desc_nosqaull = seville_weather_desc_nosqaull.drop(\"squall\", axis=0)\n",
    "\n",
    "# Preview\n",
    "# seville_weather_desc_nosqaull"
   ]
  },
  {
   "cell_type": "code",
   "execution_count": 28,
   "metadata": {},
   "outputs": [
    {
     "data": {
      "text/plain": [
       "<function matplotlib.pyplot.show(*args, **kw)>"
      ]
     },
     "execution_count": 28,
     "metadata": {},
     "output_type": "execute_result"
    },
    {
     "data": {
      "image/png": "[encoded data removed]",
      "text/plain": [
       "<Figure size 432x288 with 1 Axes>"
      ]
     },
     "metadata": {
      "needs_background": "light"
     },
     "output_type": "display_data"
    }
   ],
   "source": [
    "# Create weather description bar chart (no squall)\n",
    "x_limit_seville = np.arange(0,len(seville_weather_desc_nosqaull),1)\n",
    "foreceast = [\"clear\",\"clouds\",\"drizzle\",\"dust\",\"fog\",\"haze\",\"mist\",\"rain\",\"smoke\",\"thunderstorm\"]\n",
    "\n",
    "# Plot each energy type\n",
    "plt.bar(x_limit_seville,seville_weather_desc_nosqaull[\"Nuclear\"], color=\"green\", label=\"Nuclear\")\n",
    "plt.bar(x_limit_seville,seville_weather_desc_nosqaull[\"Hydro River/Resivoir\"], color=\"royalblue\", label=\"Hydro\")\n",
    "plt.bar(x_limit_seville,seville_weather_desc_nosqaull[\"Solar\"], color=\"orange\", label=\"Solar\")\n",
    "plt.bar(x_limit_seville,seville_weather_desc_nosqaull[\"Oil\"], color=\"red\", label=\"Oil\")\n",
    "\n",
    "plt.title(\"Seville's Energy Production vs Forecast Description \\n (2015-2018)\")\n",
    "plt.xlabel(\"Forecast Description\")\n",
    "plt.ylabel(\"Avg Energy Production\")\n",
    "plt.legend(loc=\"center left\", bbox_to_anchor=(1, 0.5), fancybox=True)\n",
    "\n",
    "tick_locations = [value for value in x_limit_seville]\n",
    "plt.xticks(tick_locations, foreceast, rotation=75)\n",
    "\n",
    "plt.show"
   ]
  },
  {
   "cell_type": "markdown",
   "metadata": {},
   "source": [
    "<hr>\n",
    "\n",
    "## Valencia"
   ]
  },
  {
   "cell_type": "code",
   "execution_count": 29,
   "metadata": {},
   "outputs": [],
   "source": [
    "# Create Dataframe for Valencia\n",
    "valencia_df = smaller_better_big_df.loc[smaller_better_big_df[\"City\"]==\"Valencia\"]\n",
    "\n",
    "# Preivew\n",
    "# valencia_df.head()"
   ]
  },
  {
   "cell_type": "code",
   "execution_count": 30,
   "metadata": {},
   "outputs": [],
   "source": [
    "weather_desc_Val = valencia_df.groupby(\"Weather Description\")[\"Oil\",\"Hydro River/Resivoir\",\"Solar\",\"Nuclear\"].mean()\n",
    "# Preview\n",
    "# weather_desc_Val"
   ]
  },
  {
   "cell_type": "code",
   "execution_count": 31,
   "metadata": {},
   "outputs": [
    {
     "data": {
      "text/plain": [
       "<function matplotlib.pyplot.show(*args, **kw)>"
      ]
     },
     "execution_count": 31,
     "metadata": {},
     "output_type": "execute_result"
    },
    {
     "data": {
      "image/png": "[encoded data removed]",
      "text/plain": [
       "<Figure size 432x288 with 1 Axes>"
      ]
     },
     "metadata": {
      "needs_background": "light"
     },
     "output_type": "display_data"
    }
   ],
   "source": [
    "x_limit_desc_Val = np.arange(0,len(weather_desc_Val),1)\n",
    "foreceast = [\"clear\",\"clouds\",\"drizzle\",\"dust\",\"fog\",\"mist\",\"rain\",\"smoke\",\"snow\",\"thunderstorm\"]\n",
    "\n",
    "# Plot each energy type\n",
    "plt.bar(x_limit_desc_Val,weather_desc_Val[\"Nuclear\"], color=\"green\", label=\"Nuclear\")\n",
    "plt.bar(x_limit_desc_Val,weather_desc_Val[\"Hydro River/Resivoir\"], color=\"royalblue\", label=\"Hydro\")\n",
    "plt.bar(x_limit_desc_Val,weather_desc_Val[\"Solar\"], color=\"orange\", label=\"Solar\")\n",
    "plt.bar(x_limit_desc_Val,weather_desc_Val[\"Oil\"], color=\"red\", label=\"Oil\")\n",
    "\n",
    "plt.title(\"Valencia's Energy Production vs Forecast Description \\n (2015-2018)\")\n",
    "plt.xlabel(\"Forecast Description\")\n",
    "plt.ylabel(\"Avg Energy Production\")\n",
    "plt.legend(loc=\"center left\", bbox_to_anchor=(1, 0.5), fancybox=True)\n",
    "\n",
    "tick_locations = [value for value in x_limit_desc_Val]\n",
    "plt.xticks(tick_locations, foreceast, rotation=75)\n",
    "\n",
    "plt.show"
   ]
  },
  {
   "cell_type": "code",
   "execution_count": null,
   "metadata": {},
   "outputs": [],
   "source": []
  }
 ],
 "metadata": {
  "file_extension": ".py",
  "kernelspec": {
   "display_name": "Python 3",
   "language": "python",
   "name": "python3"
  },
  "language_info": {
   "codemirror_mode": {
    "name": "ipython",
    "version": 3
   },
   "file_extension": ".py",
   "mimetype": "text/x-python",
   "name": "python",
   "nbconvert_exporter": "python",
   "pygments_lexer": "ipython3",
   "version": "3.6.9"
  },
  "mimetype": "text/x-python",
  "name": "python",
  "npconvert_exporter": "python",
  "pygments_lexer": "ipython3",
  "version": 3
 },
 "nbformat": 4,
 "nbformat_minor": 2
}
